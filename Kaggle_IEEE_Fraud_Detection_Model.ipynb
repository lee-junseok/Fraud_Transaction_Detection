{
 "cells": [
  {
   "cell_type": "markdown",
   "metadata": {},
   "source": [
    "## https://www.kaggle.com/c/ieee-fraud-detection"
   ]
  },
  {
   "cell_type": "markdown",
   "metadata": {},
   "source": [
    "# IEEE-CIS Fraud Detection\n",
    "## Can you detect fraud from customer transactions?"
   ]
  },
  {
   "cell_type": "code",
   "execution_count": 51,
   "metadata": {},
   "outputs": [],
   "source": [
    "import pandas as pd\n",
    "import numpy as np\n",
    "\n",
    "# for plots\n",
    "import matplotlib.pyplot as plt\n",
    "import seaborn as sns\n",
    "import plotly.graph_objs as go\n",
    "import plotly.tools as tls\n",
    "from plotly.offline import iplot, init_notebook_mode\n",
    "import plotly.figure_factory as ff\n",
    "\n",
    "# for modeling\n",
    "import lightgbm as lgb\n",
    "from sklearn.model_selection import ShuffleSplit, train_test_split\n",
    "from sklearn.ensemble import RandomForestClassifier\n",
    "from sklearn.metrics import roc_auc_score, accuracy_score, confusion_matrix\n",
    "from sklearn.impute import SimpleImputer\n",
    "from operator import itemgetter\n",
    "from sklearn.preprocessing import LabelEncoder\n",
    "from sklearn.model_selection import StratifiedKFold"
   ]
  },
  {
   "cell_type": "markdown",
   "metadata": {},
   "source": [
    "# (Data Exploring in 'Kaggle_IEEE_Fraud_Detection_EDA')"
   ]
  },
  {
   "cell_type": "markdown",
   "metadata": {},
   "source": [
    "# Import Data in the same ways as explained in the EDA notebook"
   ]
  },
  {
   "cell_type": "code",
   "execution_count": 2,
   "metadata": {},
   "outputs": [],
   "source": [
    "train_id = pd.read_csv('ieee-fraud-detection/train_identity.csv')"
   ]
  },
  {
   "cell_type": "code",
   "execution_count": 3,
   "metadata": {},
   "outputs": [],
   "source": [
    "train_trans = pd.read_csv('ieee-fraud-detection/train_transaction.csv')"
   ]
  },
  {
   "cell_type": "code",
   "execution_count": 4,
   "metadata": {},
   "outputs": [],
   "source": [
    "test_id = pd.read_csv('ieee-fraud-detection/test_identity.csv')"
   ]
  },
  {
   "cell_type": "code",
   "execution_count": 5,
   "metadata": {},
   "outputs": [],
   "source": [
    "test_trans = pd.read_csv('ieee-fraud-detection/test_transaction.csv')"
   ]
  },
  {
   "cell_type": "code",
   "execution_count": null,
   "metadata": {},
   "outputs": [],
   "source": [
    "df = train_trans.merge(train_id, how='left', on='TransactionID')\n",
    "df_test = test_trans.merge(test_id, how='left', on='TransactionID')\n",
    "del train_trans, train_id, test_trans, test_id"
   ]
  },
  {
   "cell_type": "code",
   "execution_count": 9,
   "metadata": {},
   "outputs": [],
   "source": [
    "def change_dtype(df,type_to_change_dict):\n",
    "    for feature in type_to_change_dict:\n",
    "        df[feature] = df[feature].astype(type_to_change_dict[feature])"
   ]
  },
  {
   "cell_type": "code",
   "execution_count": null,
   "metadata": {},
   "outputs": [],
   "source": [
    "del train"
   ]
  },
  {
   "cell_type": "code",
   "execution_count": 10,
   "metadata": {},
   "outputs": [],
   "source": [
    "#reduce memory use\n",
    "# float32, int32 is enough to hold these data and to get sum and mean (checked)\n",
    "for col in df.columns:\n",
    "    if df[col].dtype == np.float64:\n",
    "        change_dtype(df, {col:np.float32})\n",
    "    elif df[col].dtype == np.int64:\n",
    "        change_dtype(df, {col:np.int32})\n",
    "\n",
    "for col in df_test.columns:\n",
    "    if df_test[col].dtype == np.float64:\n",
    "        change_dtype(df_test, {col:np.float32})\n",
    "    elif df_test[col].dtype == np.int64:\n",
    "        change_dtype(df_test, {col:np.int32})\n",
    "        \n",
    "# only binary values\n",
    "df['isFraud']=df['isFraud'].astype(np.int8)"
   ]
  },
  {
   "cell_type": "code",
   "execution_count": 16,
   "metadata": {},
   "outputs": [
    {
     "data": {
      "text/plain": [
       "(590540, 434)"
      ]
     },
     "execution_count": 16,
     "metadata": {},
     "output_type": "execute_result"
    }
   ],
   "source": [
    "df.shape"
   ]
  },
  {
   "cell_type": "code",
   "execution_count": 14,
   "metadata": {},
   "outputs": [],
   "source": [
    "# def memory_64_to_32(df,df_test = pd.DataFrame()):\n",
    "# #reduce memory use\n",
    "# # float32, int32 is enough to hold these data and to get sum and mean (checked)\n",
    "#     for col in tqdm(df.columns):\n",
    "#         if df[col].dtype == np.float64:\n",
    "#             change_dtype(df, {col:np.float32})\n",
    "#         elif df[col].dtype == np.int64:\n",
    "#             change_dtype(df, {col:np.int32})\n",
    "\n",
    "#     for col in tqdm(df_test.columns):\n",
    "#         if df_test[col].dtype == np.float64:\n",
    "#             change_dtype(df_test, {col:np.float32})\n",
    "#         elif df_test[col].dtype == np.int64:\n",
    "#             change_dtype(df_test, {col:np.int32})\n",
    "\n",
    "#     # only binary values\n",
    "#     if 'isFraud' in df.columns:\n",
    "#         df['isFraud']=df['isFraud'].astype(np.int8)"
   ]
  },
  {
   "cell_type": "code",
   "execution_count": 215,
   "metadata": {
    "collapsed": true
   },
   "outputs": [
    {
     "name": "stderr",
     "output_type": "stream",
     "text": [
      "\n",
      "100%|██████████| 289/289 [00:00<00:00, 14655.82it/s]\n",
      "\n",
      "  0%|          | 0/288 [00:00<?, ?it/s]\u001b[A\n",
      " 46%|████▌     | 132/288 [00:00<00:00, 297.20it/s]\u001b[A\n",
      " 49%|████▉     | 141/288 [00:03<00:17,  8.46it/s] \u001b[A\n",
      " 51%|█████▏    | 148/288 [00:06<00:27,  5.18it/s]\u001b[A\n",
      " 53%|█████▎    | 153/288 [00:08<00:32,  4.17it/s]\u001b[A\n",
      " 55%|█████▍    | 157/288 [00:09<00:35,  3.70it/s]\u001b[A\n",
      " 56%|█████▌    | 160/288 [00:10<00:36,  3.47it/s]\u001b[A\n",
      " 56%|█████▋    | 162/288 [00:11<00:38,  3.30it/s]\u001b[A\n",
      " 57%|█████▋    | 164/288 [00:11<00:38,  3.24it/s]\u001b[A\n",
      " 58%|█████▊    | 166/288 [00:12<00:37,  3.24it/s]\u001b[A\n",
      " 58%|█████▊    | 167/288 [00:12<00:37,  3.22it/s]\u001b[A\n",
      " 58%|█████▊    | 168/288 [00:13<00:37,  3.21it/s]\u001b[A\n",
      " 59%|█████▊    | 169/288 [00:13<00:37,  3.14it/s]\u001b[A\n",
      " 59%|█████▉    | 170/288 [00:13<00:38,  3.03it/s]\u001b[A\n",
      " 59%|█████▉    | 171/288 [00:14<00:38,  3.06it/s]\u001b[A\n",
      " 60%|█████▉    | 172/288 [00:14<00:37,  3.11it/s]\u001b[A\n",
      " 60%|██████    | 173/288 [00:14<00:36,  3.15it/s]\u001b[A\n",
      " 60%|██████    | 174/288 [00:15<00:35,  3.20it/s]\u001b[A\n",
      " 61%|██████    | 175/288 [00:15<00:34,  3.29it/s]\u001b[A"
     ]
    },
    {
     "ename": "KeyboardInterrupt",
     "evalue": "",
     "output_type": "error",
     "traceback": [
      "\u001b[0;31m---------------------------------------------------------------------------\u001b[0m",
      "\u001b[0;31mKeyboardInterrupt\u001b[0m                         Traceback (most recent call last)",
      "\u001b[0;32m<ipython-input-215-2838c6471758>\u001b[0m in \u001b[0;36m<module>\u001b[0;34m\u001b[0m\n\u001b[0;32m----> 1\u001b[0;31m \u001b[0mmemory_64_to_32\u001b[0m\u001b[0;34m(\u001b[0m\u001b[0mdf1\u001b[0m\u001b[0;34m,\u001b[0m\u001b[0mdf1_test\u001b[0m\u001b[0;34m)\u001b[0m\u001b[0;34m\u001b[0m\u001b[0;34m\u001b[0m\u001b[0m\n\u001b[0m",
      "\u001b[0;32m<ipython-input-214-28889bc8b4cd>\u001b[0m in \u001b[0;36mmemory_64_to_32\u001b[0;34m(df, df_test)\u001b[0m\n\u001b[1;32m     10\u001b[0m     \u001b[0;32mfor\u001b[0m \u001b[0mcol\u001b[0m \u001b[0;32min\u001b[0m \u001b[0mtqdm\u001b[0m\u001b[0;34m(\u001b[0m\u001b[0mdf_test\u001b[0m\u001b[0;34m.\u001b[0m\u001b[0mcolumns\u001b[0m\u001b[0;34m)\u001b[0m\u001b[0;34m:\u001b[0m\u001b[0;34m\u001b[0m\u001b[0;34m\u001b[0m\u001b[0m\n\u001b[1;32m     11\u001b[0m         \u001b[0;32mif\u001b[0m \u001b[0mdf_test\u001b[0m\u001b[0;34m[\u001b[0m\u001b[0mcol\u001b[0m\u001b[0;34m]\u001b[0m\u001b[0;34m.\u001b[0m\u001b[0mdtype\u001b[0m \u001b[0;34m==\u001b[0m \u001b[0mnp\u001b[0m\u001b[0;34m.\u001b[0m\u001b[0mfloat64\u001b[0m\u001b[0;34m:\u001b[0m\u001b[0;34m\u001b[0m\u001b[0;34m\u001b[0m\u001b[0m\n\u001b[0;32m---> 12\u001b[0;31m             \u001b[0mchange_dtype\u001b[0m\u001b[0;34m(\u001b[0m\u001b[0mdf_test\u001b[0m\u001b[0;34m,\u001b[0m \u001b[0;34m{\u001b[0m\u001b[0mcol\u001b[0m\u001b[0;34m:\u001b[0m\u001b[0mnp\u001b[0m\u001b[0;34m.\u001b[0m\u001b[0mfloat32\u001b[0m\u001b[0;34m}\u001b[0m\u001b[0;34m)\u001b[0m\u001b[0;34m\u001b[0m\u001b[0;34m\u001b[0m\u001b[0m\n\u001b[0m\u001b[1;32m     13\u001b[0m         \u001b[0;32melif\u001b[0m \u001b[0mdf_test\u001b[0m\u001b[0;34m[\u001b[0m\u001b[0mcol\u001b[0m\u001b[0;34m]\u001b[0m\u001b[0;34m.\u001b[0m\u001b[0mdtype\u001b[0m \u001b[0;34m==\u001b[0m \u001b[0mnp\u001b[0m\u001b[0;34m.\u001b[0m\u001b[0mint64\u001b[0m\u001b[0;34m:\u001b[0m\u001b[0;34m\u001b[0m\u001b[0;34m\u001b[0m\u001b[0m\n\u001b[1;32m     14\u001b[0m             \u001b[0mchange_dtype\u001b[0m\u001b[0;34m(\u001b[0m\u001b[0mdf_test\u001b[0m\u001b[0;34m,\u001b[0m \u001b[0;34m{\u001b[0m\u001b[0mcol\u001b[0m\u001b[0;34m:\u001b[0m\u001b[0mnp\u001b[0m\u001b[0;34m.\u001b[0m\u001b[0mint32\u001b[0m\u001b[0;34m}\u001b[0m\u001b[0;34m)\u001b[0m\u001b[0;34m\u001b[0m\u001b[0;34m\u001b[0m\u001b[0m\n",
      "\u001b[0;32m<ipython-input-8-d930817a4944>\u001b[0m in \u001b[0;36mchange_dtype\u001b[0;34m(df, type_to_change_dict)\u001b[0m\n\u001b[1;32m      1\u001b[0m \u001b[0;32mdef\u001b[0m \u001b[0mchange_dtype\u001b[0m\u001b[0;34m(\u001b[0m\u001b[0mdf\u001b[0m\u001b[0;34m,\u001b[0m\u001b[0mtype_to_change_dict\u001b[0m\u001b[0;34m)\u001b[0m\u001b[0;34m:\u001b[0m\u001b[0;34m\u001b[0m\u001b[0;34m\u001b[0m\u001b[0m\n\u001b[1;32m      2\u001b[0m     \u001b[0;32mfor\u001b[0m \u001b[0mfeature\u001b[0m \u001b[0;32min\u001b[0m \u001b[0mtype_to_change_dict\u001b[0m\u001b[0;34m:\u001b[0m\u001b[0;34m\u001b[0m\u001b[0;34m\u001b[0m\u001b[0m\n\u001b[0;32m----> 3\u001b[0;31m         \u001b[0mdf\u001b[0m\u001b[0;34m[\u001b[0m\u001b[0mfeature\u001b[0m\u001b[0;34m]\u001b[0m \u001b[0;34m=\u001b[0m \u001b[0mdf\u001b[0m\u001b[0;34m[\u001b[0m\u001b[0mfeature\u001b[0m\u001b[0;34m]\u001b[0m\u001b[0;34m.\u001b[0m\u001b[0mastype\u001b[0m\u001b[0;34m(\u001b[0m\u001b[0mtype_to_change_dict\u001b[0m\u001b[0;34m[\u001b[0m\u001b[0mfeature\u001b[0m\u001b[0;34m]\u001b[0m\u001b[0;34m)\u001b[0m\u001b[0;34m\u001b[0m\u001b[0;34m\u001b[0m\u001b[0m\n\u001b[0m",
      "\u001b[0;32m~/kaggle/IEEE-venv/lib/python3.7/site-packages/pandas/core/frame.py\u001b[0m in \u001b[0;36m__setitem__\u001b[0;34m(self, key, value)\u001b[0m\n\u001b[1;32m   3485\u001b[0m         \u001b[0;32melse\u001b[0m\u001b[0;34m:\u001b[0m\u001b[0;34m\u001b[0m\u001b[0;34m\u001b[0m\u001b[0m\n\u001b[1;32m   3486\u001b[0m             \u001b[0;31m# set column\u001b[0m\u001b[0;34m\u001b[0m\u001b[0;34m\u001b[0m\u001b[0;34m\u001b[0m\u001b[0m\n\u001b[0;32m-> 3487\u001b[0;31m             \u001b[0mself\u001b[0m\u001b[0;34m.\u001b[0m\u001b[0m_set_item\u001b[0m\u001b[0;34m(\u001b[0m\u001b[0mkey\u001b[0m\u001b[0;34m,\u001b[0m \u001b[0mvalue\u001b[0m\u001b[0;34m)\u001b[0m\u001b[0;34m\u001b[0m\u001b[0;34m\u001b[0m\u001b[0m\n\u001b[0m\u001b[1;32m   3488\u001b[0m \u001b[0;34m\u001b[0m\u001b[0m\n\u001b[1;32m   3489\u001b[0m     \u001b[0;32mdef\u001b[0m \u001b[0m_setitem_slice\u001b[0m\u001b[0;34m(\u001b[0m\u001b[0mself\u001b[0m\u001b[0;34m,\u001b[0m \u001b[0mkey\u001b[0m\u001b[0;34m,\u001b[0m \u001b[0mvalue\u001b[0m\u001b[0;34m)\u001b[0m\u001b[0;34m:\u001b[0m\u001b[0;34m\u001b[0m\u001b[0;34m\u001b[0m\u001b[0m\n",
      "\u001b[0;32m~/kaggle/IEEE-venv/lib/python3.7/site-packages/pandas/core/frame.py\u001b[0m in \u001b[0;36m_set_item\u001b[0;34m(self, key, value)\u001b[0m\n\u001b[1;32m   3563\u001b[0m         \u001b[0mself\u001b[0m\u001b[0;34m.\u001b[0m\u001b[0m_ensure_valid_index\u001b[0m\u001b[0;34m(\u001b[0m\u001b[0mvalue\u001b[0m\u001b[0;34m)\u001b[0m\u001b[0;34m\u001b[0m\u001b[0;34m\u001b[0m\u001b[0m\n\u001b[1;32m   3564\u001b[0m         \u001b[0mvalue\u001b[0m \u001b[0;34m=\u001b[0m \u001b[0mself\u001b[0m\u001b[0;34m.\u001b[0m\u001b[0m_sanitize_column\u001b[0m\u001b[0;34m(\u001b[0m\u001b[0mkey\u001b[0m\u001b[0;34m,\u001b[0m \u001b[0mvalue\u001b[0m\u001b[0;34m)\u001b[0m\u001b[0;34m\u001b[0m\u001b[0;34m\u001b[0m\u001b[0m\n\u001b[0;32m-> 3565\u001b[0;31m         \u001b[0mNDFrame\u001b[0m\u001b[0;34m.\u001b[0m\u001b[0m_set_item\u001b[0m\u001b[0;34m(\u001b[0m\u001b[0mself\u001b[0m\u001b[0;34m,\u001b[0m \u001b[0mkey\u001b[0m\u001b[0;34m,\u001b[0m \u001b[0mvalue\u001b[0m\u001b[0;34m)\u001b[0m\u001b[0;34m\u001b[0m\u001b[0;34m\u001b[0m\u001b[0m\n\u001b[0m\u001b[1;32m   3566\u001b[0m \u001b[0;34m\u001b[0m\u001b[0m\n\u001b[1;32m   3567\u001b[0m         \u001b[0;31m# check if we are modifying a copy\u001b[0m\u001b[0;34m\u001b[0m\u001b[0;34m\u001b[0m\u001b[0;34m\u001b[0m\u001b[0m\n",
      "\u001b[0;32m~/kaggle/IEEE-venv/lib/python3.7/site-packages/pandas/core/generic.py\u001b[0m in \u001b[0;36m_set_item\u001b[0;34m(self, key, value)\u001b[0m\n\u001b[1;32m   3379\u001b[0m \u001b[0;34m\u001b[0m\u001b[0m\n\u001b[1;32m   3380\u001b[0m     \u001b[0;32mdef\u001b[0m \u001b[0m_set_item\u001b[0m\u001b[0;34m(\u001b[0m\u001b[0mself\u001b[0m\u001b[0;34m,\u001b[0m \u001b[0mkey\u001b[0m\u001b[0;34m,\u001b[0m \u001b[0mvalue\u001b[0m\u001b[0;34m)\u001b[0m\u001b[0;34m:\u001b[0m\u001b[0;34m\u001b[0m\u001b[0;34m\u001b[0m\u001b[0m\n\u001b[0;32m-> 3381\u001b[0;31m         \u001b[0mself\u001b[0m\u001b[0;34m.\u001b[0m\u001b[0m_data\u001b[0m\u001b[0;34m.\u001b[0m\u001b[0mset\u001b[0m\u001b[0;34m(\u001b[0m\u001b[0mkey\u001b[0m\u001b[0;34m,\u001b[0m \u001b[0mvalue\u001b[0m\u001b[0;34m)\u001b[0m\u001b[0;34m\u001b[0m\u001b[0;34m\u001b[0m\u001b[0m\n\u001b[0m\u001b[1;32m   3382\u001b[0m         \u001b[0mself\u001b[0m\u001b[0;34m.\u001b[0m\u001b[0m_clear_item_cache\u001b[0m\u001b[0;34m(\u001b[0m\u001b[0;34m)\u001b[0m\u001b[0;34m\u001b[0m\u001b[0;34m\u001b[0m\u001b[0m\n\u001b[1;32m   3383\u001b[0m \u001b[0;34m\u001b[0m\u001b[0m\n",
      "\u001b[0;32m~/kaggle/IEEE-venv/lib/python3.7/site-packages/pandas/core/internals/managers.py\u001b[0m in \u001b[0;36mset\u001b[0;34m(self, item, value)\u001b[0m\n\u001b[1;32m   1098\u001b[0m                 \u001b[0;32melse\u001b[0m\u001b[0;34m:\u001b[0m\u001b[0;34m\u001b[0m\u001b[0;34m\u001b[0m\u001b[0m\n\u001b[1;32m   1099\u001b[0m                     \u001b[0mself\u001b[0m\u001b[0;34m.\u001b[0m\u001b[0m_blklocs\u001b[0m\u001b[0;34m[\u001b[0m\u001b[0mblk\u001b[0m\u001b[0;34m.\u001b[0m\u001b[0mmgr_locs\u001b[0m\u001b[0;34m.\u001b[0m\u001b[0mindexer\u001b[0m\u001b[0;34m]\u001b[0m \u001b[0;34m=\u001b[0m \u001b[0;34m-\u001b[0m\u001b[0;36m1\u001b[0m\u001b[0;34m\u001b[0m\u001b[0;34m\u001b[0m\u001b[0m\n\u001b[0;32m-> 1100\u001b[0;31m                     \u001b[0mblk\u001b[0m\u001b[0;34m.\u001b[0m\u001b[0mdelete\u001b[0m\u001b[0;34m(\u001b[0m\u001b[0mblk_locs\u001b[0m\u001b[0;34m)\u001b[0m\u001b[0;34m\u001b[0m\u001b[0;34m\u001b[0m\u001b[0m\n\u001b[0m\u001b[1;32m   1101\u001b[0m                     \u001b[0mself\u001b[0m\u001b[0;34m.\u001b[0m\u001b[0m_blklocs\u001b[0m\u001b[0;34m[\u001b[0m\u001b[0mblk\u001b[0m\u001b[0;34m.\u001b[0m\u001b[0mmgr_locs\u001b[0m\u001b[0;34m.\u001b[0m\u001b[0mindexer\u001b[0m\u001b[0;34m]\u001b[0m \u001b[0;34m=\u001b[0m \u001b[0mnp\u001b[0m\u001b[0;34m.\u001b[0m\u001b[0marange\u001b[0m\u001b[0;34m(\u001b[0m\u001b[0mlen\u001b[0m\u001b[0;34m(\u001b[0m\u001b[0mblk\u001b[0m\u001b[0;34m)\u001b[0m\u001b[0;34m)\u001b[0m\u001b[0;34m\u001b[0m\u001b[0;34m\u001b[0m\u001b[0m\n\u001b[1;32m   1102\u001b[0m \u001b[0;34m\u001b[0m\u001b[0m\n",
      "\u001b[0;32m~/kaggle/IEEE-venv/lib/python3.7/site-packages/pandas/core/internals/blocks.py\u001b[0m in \u001b[0;36mdelete\u001b[0;34m(self, loc)\u001b[0m\n\u001b[1;32m    384\u001b[0m         \u001b[0mDelete\u001b[0m \u001b[0mgiven\u001b[0m \u001b[0mloc\u001b[0m\u001b[0;34m(\u001b[0m\u001b[0;34m-\u001b[0m\u001b[0ms\u001b[0m\u001b[0;34m)\u001b[0m \u001b[0;32mfrom\u001b[0m \u001b[0mblock\u001b[0m \u001b[0;32min\u001b[0m\u001b[0;34m-\u001b[0m\u001b[0mplace\u001b[0m\u001b[0;34m.\u001b[0m\u001b[0;34m\u001b[0m\u001b[0;34m\u001b[0m\u001b[0m\n\u001b[1;32m    385\u001b[0m         \"\"\"\n\u001b[0;32m--> 386\u001b[0;31m         \u001b[0mself\u001b[0m\u001b[0;34m.\u001b[0m\u001b[0mvalues\u001b[0m \u001b[0;34m=\u001b[0m \u001b[0mnp\u001b[0m\u001b[0;34m.\u001b[0m\u001b[0mdelete\u001b[0m\u001b[0;34m(\u001b[0m\u001b[0mself\u001b[0m\u001b[0;34m.\u001b[0m\u001b[0mvalues\u001b[0m\u001b[0;34m,\u001b[0m \u001b[0mloc\u001b[0m\u001b[0;34m,\u001b[0m \u001b[0;36m0\u001b[0m\u001b[0;34m)\u001b[0m\u001b[0;34m\u001b[0m\u001b[0;34m\u001b[0m\u001b[0m\n\u001b[0m\u001b[1;32m    387\u001b[0m         \u001b[0mself\u001b[0m\u001b[0;34m.\u001b[0m\u001b[0mmgr_locs\u001b[0m \u001b[0;34m=\u001b[0m \u001b[0mself\u001b[0m\u001b[0;34m.\u001b[0m\u001b[0mmgr_locs\u001b[0m\u001b[0;34m.\u001b[0m\u001b[0mdelete\u001b[0m\u001b[0;34m(\u001b[0m\u001b[0mloc\u001b[0m\u001b[0;34m)\u001b[0m\u001b[0;34m\u001b[0m\u001b[0;34m\u001b[0m\u001b[0m\n\u001b[1;32m    388\u001b[0m \u001b[0;34m\u001b[0m\u001b[0m\n",
      "\u001b[0;32m<__array_function__ internals>\u001b[0m in \u001b[0;36mdelete\u001b[0;34m(*args, **kwargs)\u001b[0m\n",
      "\u001b[0;32m~/kaggle/IEEE-venv/lib/python3.7/site-packages/numpy/lib/function_base.py\u001b[0m in \u001b[0;36mdelete\u001b[0;34m(arr, obj, axis)\u001b[0m\n\u001b[1;32m   4406\u001b[0m         \u001b[0mkeep\u001b[0m\u001b[0;34m[\u001b[0m\u001b[0mobj\u001b[0m\u001b[0;34m,\u001b[0m \u001b[0;34m]\u001b[0m \u001b[0;34m=\u001b[0m \u001b[0;32mFalse\u001b[0m\u001b[0;34m\u001b[0m\u001b[0;34m\u001b[0m\u001b[0m\n\u001b[1;32m   4407\u001b[0m         \u001b[0mslobj\u001b[0m\u001b[0;34m[\u001b[0m\u001b[0maxis\u001b[0m\u001b[0;34m]\u001b[0m \u001b[0;34m=\u001b[0m \u001b[0mkeep\u001b[0m\u001b[0;34m\u001b[0m\u001b[0;34m\u001b[0m\u001b[0m\n\u001b[0;32m-> 4408\u001b[0;31m         \u001b[0mnew\u001b[0m \u001b[0;34m=\u001b[0m \u001b[0marr\u001b[0m\u001b[0;34m[\u001b[0m\u001b[0mtuple\u001b[0m\u001b[0;34m(\u001b[0m\u001b[0mslobj\u001b[0m\u001b[0;34m)\u001b[0m\u001b[0;34m]\u001b[0m\u001b[0;34m\u001b[0m\u001b[0;34m\u001b[0m\u001b[0m\n\u001b[0m\u001b[1;32m   4409\u001b[0m \u001b[0;34m\u001b[0m\u001b[0m\n\u001b[1;32m   4410\u001b[0m     \u001b[0;32mif\u001b[0m \u001b[0mwrap\u001b[0m\u001b[0;34m:\u001b[0m\u001b[0;34m\u001b[0m\u001b[0;34m\u001b[0m\u001b[0m\n",
      "\u001b[0;31mKeyboardInterrupt\u001b[0m: "
     ]
    }
   ],
   "source": [
    "# memory_64_to_32(df1,df1_test)"
   ]
  },
  {
   "cell_type": "markdown",
   "metadata": {},
   "source": [
    "# Data preprocessing"
   ]
  },
  {
   "cell_type": "markdown",
   "metadata": {},
   "source": [
    "## To get a baseline model, let's do basic data preprocessing"
   ]
  },
  {
   "cell_type": "markdown",
   "metadata": {},
   "source": [
    "- #### Drop the features whose missing data are more than 50% \n",
    "- #### One-hot-encoding for object features\n",
    "- #### Fill missing values with the mean of each feature"
   ]
  },
  {
   "cell_type": "code",
   "execution_count": 11,
   "metadata": {},
   "outputs": [],
   "source": [
    "def threshold_null_cols(df,threshold = 0.5):\n",
    "    null_cols = df.isnull().sum(axis=0)/len(df) > threshold\n",
    "    return list(null_cols[null_cols].keys())\n",
    "\n",
    "def drop_cols(df,col_name_list):\n",
    "    df1 = df.drop(col_name_list,axis='columns')\n",
    "    return df1\n",
    "\n",
    "def one_hot(df, dummy_na = False):\n",
    "    df1 = pd.get_dummies(df, dummy_na=dummy_na)\n",
    "    return df1\n",
    "\n",
    "def fill_na(df1,mean_mode = 'mean'):\n",
    "    if mean_mode == 'mode':\n",
    "        df1.fillna(df1.mode(),inplace = True)\n",
    "    df1.fillna(df1.mean(),inplace = True)"
   ]
  },
  {
   "cell_type": "code",
   "execution_count": 14,
   "metadata": {},
   "outputs": [],
   "source": [
    "df1 = one_hot( drop_cols(df, threshold_null_cols(df)  )  )"
   ]
  },
  {
   "cell_type": "code",
   "execution_count": 26,
   "metadata": {},
   "outputs": [],
   "source": [
    "fill_na(df1)"
   ]
  },
  {
   "cell_type": "code",
   "execution_count": 15,
   "metadata": {},
   "outputs": [
    {
     "data": {
      "text/plain": [
       "(590540, 294)"
      ]
     },
     "execution_count": 15,
     "metadata": {},
     "output_type": "execute_result"
    }
   ],
   "source": [
    "df1.shape"
   ]
  },
  {
   "cell_type": "markdown",
   "metadata": {},
   "source": [
    "# Baseline Model"
   ]
  },
  {
   "cell_type": "markdown",
   "metadata": {},
   "source": [
    "## Let's get a baseline model with df1"
   ]
  },
  {
   "cell_type": "markdown",
   "metadata": {},
   "source": [
    "- ### I'll train with Random Forest Classifier and get a score using validation set (train:val = 0.8:0.2)"
   ]
  },
  {
   "cell_type": "code",
   "execution_count": 20,
   "metadata": {},
   "outputs": [],
   "source": [
    "def make_train_val(df, val_size = 0.2):\n",
    "    # Split the data into training and testing sets\n",
    "    train, val = train_test_split(df, test_size = val_size)\n",
    "    assert train.shape[0]+val.shape[0] == df.shape[0], 'data wrong'\n",
    "    assert train.shape[1] == val.shape[1], 'data wrong'\n",
    "    return train, val\n",
    "\n",
    "def make_XY(df, target, drop_cols = []):\n",
    "    dataX, dataY = df.drop([target]+drop_cols, axis=1), df[target]\n",
    "    return dataX, dataY"
   ]
  },
  {
   "cell_type": "code",
   "execution_count": 27,
   "metadata": {},
   "outputs": [],
   "source": [
    "target = 'isFraud'\n",
    "train, val = make_train_val(df1)\n",
    "trainX, trainY = make_XY(train,target)\n",
    "valX, valY = make_XY(val,target)\n",
    "del train, val"
   ]
  },
  {
   "cell_type": "code",
   "execution_count": 29,
   "metadata": {},
   "outputs": [
    {
     "data": {
      "text/plain": [
       "RandomForestClassifier(bootstrap=True, ccp_alpha=0.0, class_weight=None,\n",
       "                       criterion='gini', max_depth=10, max_features='auto',\n",
       "                       max_leaf_nodes=None, max_samples=None,\n",
       "                       min_impurity_decrease=0.0, min_impurity_split=None,\n",
       "                       min_samples_leaf=1, min_samples_split=2,\n",
       "                       min_weight_fraction_leaf=0.0, n_estimators=100,\n",
       "                       n_jobs=None, oob_score=False, random_state=None,\n",
       "                       verbose=0, warm_start=False)"
      ]
     },
     "execution_count": 29,
     "metadata": {},
     "output_type": "execute_result"
    }
   ],
   "source": [
    "# Make the random forest classifier\n",
    "random_forest = RandomForestClassifier(n_estimators = 100,  max_depth=10, n_jobs=-1)\n",
    "# Train with the training data\n",
    "random_forest.fit(trainX, trainY)"
   ]
  },
  {
   "cell_type": "code",
   "execution_count": 30,
   "metadata": {},
   "outputs": [],
   "source": [
    "# Function showing scores of the model on a validation set\n",
    "def output_auc(model, data_X, data_Y, return_auc=False):\n",
    "    ## Results on val data:\n",
    "    predProba = model.predict_proba(data_X)\n",
    "    # Make predictions on the validation data\n",
    "    pred = model.predict(data_X)\n",
    "\n",
    "    ## Accuracy:\n",
    "    print(\"accuracy: \", accuracy_score(pred, data_Y))\n",
    "\n",
    "    # compute the AUC score:\n",
    "    auc_score = roc_auc_score(data_Y, predProba[:,1])\n",
    "    print(\"AUC score: \", auc_score)\n",
    "\n",
    "    # confusion matrix:\n",
    "    print(\"confusion matrix:\\n\", confusion_matrix(pred, data_Y),\"\\n\")\n",
    "        \n",
    "    if return_auc:\n",
    "        return auc_score"
   ]
  },
  {
   "cell_type": "code",
   "execution_count": 32,
   "metadata": {},
   "outputs": [
    {
     "name": "stdout",
     "output_type": "stream",
     "text": [
      "accuracy:  0.9724320113794155\n",
      "AUC score:  0.8783128564159979\n",
      "confusion matrix:\n",
      " [[113825   3176]\n",
      " [    80   1027]] \n",
      "\n"
     ]
    }
   ],
   "source": [
    "output_auc(random_forest, valX, valY)"
   ]
  },
  {
   "cell_type": "markdown",
   "metadata": {},
   "source": [
    "- ### Our baseline score is 0.878. Let's improve this with further feature engineering."
   ]
  },
  {
   "cell_type": "markdown",
   "metadata": {},
   "source": [
    "# Feature Engineering"
   ]
  },
  {
   "cell_type": "code",
   "execution_count": 34,
   "metadata": {},
   "outputs": [],
   "source": [
    "del df1"
   ]
  },
  {
   "cell_type": "markdown",
   "metadata": {},
   "source": [
    "- ### Instead of dropping features with more than half null data, let's drop the feature if missing on Fraud data is more than 70%"
   ]
  },
  {
   "cell_type": "code",
   "execution_count": 39,
   "metadata": {},
   "outputs": [],
   "source": [
    "def fraud_threshold_null_cols(df,target='isFraud',threshold = 0.5):\n",
    "    null_cols = df[df[target]==1].isnull().sum(axis=0)/len(df[df[target]==1]) > threshold\n",
    "    return list(null_cols[null_cols].keys())"
   ]
  },
  {
   "cell_type": "code",
   "execution_count": 40,
   "metadata": {},
   "outputs": [],
   "source": [
    "null_cols = fraud_threshold_null_cols(df,target, threshold=0.7)\n",
    "#cols with null data ratio >threshold in Fraud data"
   ]
  },
  {
   "cell_type": "code",
   "execution_count": 41,
   "metadata": {},
   "outputs": [
    {
     "data": {
      "text/plain": [
       "80"
      ]
     },
     "execution_count": 41,
     "metadata": {},
     "output_type": "execute_result"
    }
   ],
   "source": [
    "len(null_cols)"
   ]
  },
  {
   "cell_type": "markdown",
   "metadata": {},
   "source": [
    "- ### Let's check whether the TransAmt has decimal is correlated to Fraud\n",
    "- ### As explained in EDA, let's dig in 'TransactionDT' more. I put what hours, days and months the transaction happened"
   ]
  },
  {
   "cell_type": "code",
   "execution_count": 44,
   "metadata": {},
   "outputs": [],
   "source": [
    "def Amt_decimal_bool(df1, TransAmt = 'TransactionAmt'):\n",
    "    df1['TransactionAmt_decimal'] = df1[TransAmt].apply(lambda x: 1 if x - np.floor(x) >0 else 0)\n",
    "\n",
    "def trans_time(df1,trans_day_cycle = True, trans_month_cycle = True, trans_time_cycle = True,\\\n",
    "              del_dayofweek = True, del_month = True, del_DT = True):\n",
    "    df1['Transaction_day_of_week'] = np.floor((df1['TransactionDT'] / (3600 * 24)) % 7)\n",
    "    df1['Transaction_month'] = np.floor((df1['TransactionDT'] / (3600 * 24 *30)) % 12)\n",
    "    df1['Transaction_time'] = np.floor((df1['TransactionDT'] / (3600)) % 24)\n",
    "    if trans_day_cycle:\n",
    "        df1['Transaction_day_cycle'] = ((df1['TransactionDT'] / (3600 * 24)) % 7).apply(lambda x:np.sin(2*np.pi*x /7 ))\n",
    "    if trans_month_cycle:\n",
    "        df1['Transaction_month_cycle'] = ((df1['TransactionDT'] / (3600 * 24 * 30)) % 12).apply(lambda x:np.sin(2*np.pi*x /12 ))\n",
    "    if trans_time_cycle:\n",
    "        df1['Transaction_time_cycle'] = ((df1['TransactionDT'] / (3600)) % 24).apply(lambda x:np.sin(2*np.pi*x /24 ))\n",
    "    if del_dayofweek:\n",
    "        df1.drop('Transaction_day_of_week',axis='columns',inplace = True)\n",
    "    if del_month:\n",
    "        df1.drop('Transaction_month',axis='columns',inplace = True)\n",
    "    if del_DT:\n",
    "        df1.drop('TransactionDT',axis='columns',inplace = True)\n",
    "\n",
    "def data_preprocessing(df,cols_to_pick = [], cols_to_del = []):\n",
    "    df = drop_cols(df,cols_to_del)\n",
    "    df1 = one_hot(df, dummy_na=True)\n",
    "#    fill_na(df1,'mean')\n",
    "    Amt_decimal_bool(df1)\n",
    "    trans_time(df1)\n",
    "    if len(cols_to_pick):\n",
    "        if set(cols_to_pick)-set(df1.columns):\n",
    "            print(f\"{list(set(cols_to_pick)-set(df1.columns))} is not in index\")\n",
    "            cols_to_pick = [col for col in cols_to_pick if col in df1.columns ]\n",
    "        df1 = df1[cols_to_pick]\n",
    "    return df1"
   ]
  },
  {
   "cell_type": "code",
   "execution_count": 45,
   "metadata": {},
   "outputs": [],
   "source": [
    "df1 = data_preprocessing(df,cols_to_del = null_cols)"
   ]
  },
  {
   "cell_type": "code",
   "execution_count": 243,
   "metadata": {},
   "outputs": [],
   "source": [
    "#matching names ('id-01' format in test, 'id_01' format in train)\n",
    "df_test.rename(index=str, columns={f\"id-{n+1:02d}\": f\"id_{n+1:02d}\" for n in range(38) }, inplace = True)"
   ]
  },
  {
   "cell_type": "code",
   "execution_count": 244,
   "metadata": {},
   "outputs": [],
   "source": [
    "df1_test = data_preprocessing(df_test,cols_to_del = null_cols)"
   ]
  },
  {
   "cell_type": "code",
   "execution_count": 40,
   "metadata": {},
   "outputs": [],
   "source": [
    "cols_both = [col for col in df1.columns if col in df1_test.columns]"
   ]
  },
  {
   "cell_type": "code",
   "execution_count": 41,
   "metadata": {},
   "outputs": [],
   "source": [
    "df1 = df1[cols_both]\n",
    "df1_test = df1_test[cols_both]"
   ]
  },
  {
   "cell_type": "markdown",
   "metadata": {},
   "source": [
    "- ## Missing values are filled with mean of each feature\n",
    "- ### Test set missing values are filled with the mean of train set"
   ]
  },
  {
   "cell_type": "code",
   "execution_count": 52,
   "metadata": {},
   "outputs": [],
   "source": [
    "def imputer(train,na_col_list, val = pd.DataFrame(), test = pd.DataFrame()):\n",
    "    df_na_cols = train[na_col_list]\n",
    "    imp_mean = SimpleImputer(missing_values=np.nan, strategy='mean', copy = True)\n",
    "    imp_mean.fit(df_na_cols)\n",
    "    train[na_col_list] = imp_mean.transform(df_na_cols)\n",
    "    if len(val):\n",
    "        val[na_col_list] = imp_mean.transform(val[na_col_list])\n",
    "    if len(test):\n",
    "        test[na_col_list] = imp_mean.transform(test[na_col_list])"
   ]
  },
  {
   "cell_type": "code",
   "execution_count": 53,
   "metadata": {},
   "outputs": [],
   "source": [
    "na_col_list = df1.keys()[pd.concat([df1, df1_test],axis =0).isnull().any()]\n",
    "\n",
    "imputer(df1, na_col_list,  test = df1_test)"
   ]
  },
  {
   "cell_type": "code",
   "execution_count": null,
   "metadata": {},
   "outputs": [],
   "source": [
    "df1[target] = df[target]"
   ]
  },
  {
   "cell_type": "markdown",
   "metadata": {},
   "source": [
    "- ## Since only 3.5% are Fraud, I check correlation of each feature with target('isFraud') with balanced sample.\n",
    "- ### Average correlations over 20 samples and get features with avg_corr > 0.01"
   ]
  },
  {
   "cell_type": "code",
   "execution_count": 54,
   "metadata": {},
   "outputs": [],
   "source": [
    "def large_cor_cols_from_bal_data(df1,target,threshold,num_itr_to_avg, no_cor_cols = [target], verbose = False):\n",
    "    fraud_raw = df1[df1[target] == 1]\n",
    "    safe_raw = df1[df1[target] == 0]\n",
    "    percentage = len(fraud_raw)/float(len(safe_raw))\n",
    "    cor = {}\n",
    "    for i in range(num_itr_to_avg):\n",
    "        safe = safe_raw.sample(frac = percentage)\n",
    "        df1_bal = safe.append(fraud_raw)\n",
    "        cor[i] = abs(df1_bal.drop(no_cor_cols, axis = 1).apply(lambda x: x.corr(df1_bal['isFraud'])))\n",
    "        if i == 0:\n",
    "            cor_df = cor[i]\n",
    "        else:\n",
    "            cor_df = pd.concat([cor_df, cor[i]], axis = 1, sort = False) \n",
    "        \n",
    "    cor_sort = cor_df.mean(axis=1).sort_values(ascending=False)\n",
    "\n",
    "    lg_cor = cor_sort[cor_sort >= threshold]\n",
    "    if verbose:\n",
    "        print(lg_cor.to_string())\n",
    "        print(f'------ threshold = {threshold} ------')\n",
    "        print(cor_sort[cor_sort < threshold].to_string())\n",
    "    lg_cor_cols =  list(lg_cor.index.values)\n",
    "\n",
    "    return lg_cor_cols"
   ]
  },
  {
   "cell_type": "code",
   "execution_count": 55,
   "metadata": {},
   "outputs": [],
   "source": [
    "lg_cor_cols = large_cor_cols_from_bal_data(df1,target,threshold=0.01,num_itr_to_avg=20)"
   ]
  },
  {
   "cell_type": "code",
   "execution_count": 56,
   "metadata": {},
   "outputs": [],
   "source": [
    "df1 = df1[[target]+lg_cor_cols]\n",
    "df1_test = df1_test[lg_cor_cols]"
   ]
  },
  {
   "cell_type": "markdown",
   "metadata": {},
   "source": [
    "# First Modeling to get important features"
   ]
  },
  {
   "cell_type": "code",
   "execution_count": 57,
   "metadata": {},
   "outputs": [],
   "source": [
    "rs = ShuffleSplit(n_splits=1, test_size=.25)"
   ]
  },
  {
   "cell_type": "code",
   "execution_count": 58,
   "metadata": {},
   "outputs": [],
   "source": [
    "lgb_clf = lgb.LGBMClassifier(num_leaves = 500, n_estimators=100,\n",
    "                        n_jobs=-1,\n",
    "                        max_depth=-1,\n",
    "                        learning_rate=0.05,\n",
    "                        subsample=0.9,\n",
    "                        colsample_bytree=0.9,\n",
    "                        min_data_in_leaf = 0,\n",
    "                        min_split_gain = 0,\n",
    "                        subsample_for_bin = 200000)"
   ]
  },
  {
   "cell_type": "code",
   "execution_count": 63,
   "metadata": {},
   "outputs": [],
   "source": [
    "def lgb_training(df1, target = 'isFraud'):\n",
    "    df1X = df1.drop(target, axis=1)\n",
    "    feature_names = [\"\".join (c if c.isalnum() else \"_\" for c in str(x)) for x in list(df1X.columns)]\n",
    "    for train_index, val_index in rs.split(df1, df1[target]):\n",
    "        trainX, trainY = df1X.iloc[train_index], df1[target].iloc[train_index]\n",
    "\n",
    "    #     trainY.reset_index(drop = True, inplace = True)\n",
    "    #     trainX.reset_index(drop = True, inplace = True)\n",
    "    #     idx_for_1 = np.where(trainY == 1)[0]\n",
    "    #     idx_for_0 = list(  set(range(trainY.shape[0]))-set(idx_for_1)  )\n",
    "    #     sample_idx_for_0 = random.choices(idx_for_0,k = (trainY == 1).sum())\n",
    "    #     sample_idx = list(idx_for_1) + sample_idx_for_0\n",
    "    #     sample_idx.sort()\n",
    "\n",
    "    #     trainX = trainX.iloc[sample_idx]\n",
    "    #     trainY = trainY.iloc[sample_idx]\n",
    "\n",
    "        valX, valY = df1X.iloc[val_index], df1[target].iloc[val_index]\n",
    "        lgb_clf.fit(trainX, trainY, feature_name = feature_names)\n",
    "        output_auc(lgb_clf, valX, valY)"
   ]
  },
  {
   "cell_type": "code",
   "execution_count": 66,
   "metadata": {},
   "outputs": [
    {
     "name": "stdout",
     "output_type": "stream",
     "text": [
      "accuracy:  0.9818674433569275\n",
      "AUC score:  0.9496378173895632\n",
      "confusion matrix:\n",
      " [[141971   2295]\n",
      " [   382   2987]] \n",
      "\n"
     ]
    }
   ],
   "source": [
    "lgb_training(df1)"
   ]
  },
  {
   "cell_type": "code",
   "execution_count": 69,
   "metadata": {},
   "outputs": [
    {
     "data": {
      "text/plain": [
       "<matplotlib.axes._subplots.AxesSubplot at 0x12cf5c890>"
      ]
     },
     "execution_count": 69,
     "metadata": {},
     "output_type": "execute_result"
    },
    {
     "data": {
      "image/png": "[encoded data removed]",
      "text/plain": [
       "<Figure size 432x288 with 1 Axes>"
      ]
     },
     "metadata": {
      "needs_background": "light"
     },
     "output_type": "display_data"
    }
   ],
   "source": [
    "lgb.plot_importance(lgb_clf,max_num_features=20 , importance_type = 'split')"
   ]
  },
  {
   "cell_type": "code",
   "execution_count": 70,
   "metadata": {},
   "outputs": [
    {
     "data": {
      "text/plain": [
       "<matplotlib.axes._subplots.AxesSubplot at 0x12cfa62d0>"
      ]
     },
     "execution_count": 70,
     "metadata": {},
     "output_type": "execute_result"
    },
    {
     "data": {
      "image/png": "[encoded data removed]",
      "text/plain": [
       "<Figure size 432x288 with 1 Axes>"
      ]
     },
     "metadata": {
      "needs_background": "light"
     },
     "output_type": "display_data"
    }
   ],
   "source": [
    "lgb.plot_importance(lgb_clf,max_num_features=20 , importance_type = 'gain')"
   ]
  },
  {
   "cell_type": "markdown",
   "metadata": {},
   "source": [
    "- ### Keep only top 100 important features in 'split' and also in 'gain', and take the union of those"
   ]
  },
  {
   "cell_type": "code",
   "execution_count": 1771,
   "metadata": {},
   "outputs": [],
   "source": [
    "impt_ftr_gain_idx = np.argsort(lgbm_clf.feature_importance(importance_type='gain'))[::-1][:100]"
   ]
  },
  {
   "cell_type": "code",
   "execution_count": 1774,
   "metadata": {},
   "outputs": [],
   "source": [
    "impt_ftr_split_idx = np.argsort(lgbm_clf.feature_importance(importance_type='split'))[::-1][0:100]"
   ]
  },
  {
   "cell_type": "code",
   "execution_count": 1775,
   "metadata": {},
   "outputs": [],
   "source": [
    "important_feature_idx = np.union1d(impt_ftr_gain_idx,impt_ftr_split_idx)"
   ]
  },
  {
   "cell_type": "code",
   "execution_count": 1776,
   "metadata": {},
   "outputs": [],
   "source": [
    "original_feature_names = list(df1_impt_add.columns)"
   ]
  },
  {
   "cell_type": "code",
   "execution_count": 1777,
   "metadata": {},
   "outputs": [],
   "source": [
    "important_features = list(itemgetter(*important_feature_idx)(original_feature_names)) "
   ]
  },
  {
   "cell_type": "code",
   "execution_count": null,
   "metadata": {},
   "outputs": [],
   "source": [
    "df1_impt = df1[important_features]\n",
    "df1_test_impt = df1_test[important_features]"
   ]
  },
  {
   "cell_type": "markdown",
   "metadata": {},
   "source": [
    "# Additional Feature Engineering"
   ]
  },
  {
   "cell_type": "markdown",
   "metadata": {},
   "source": [
    "- ### Combining a pair of features and Label-encoding\n",
    "- ### Count values of some features in whole dataset (train+test) \n",
    "- ### Count null values each row"
   ]
  },
  {
   "cell_type": "code",
   "execution_count": 894,
   "metadata": {},
   "outputs": [],
   "source": [
    "def add_features(train, test):\n",
    "    df_add = pd.DataFrame()\n",
    "    df_test_add = pd.DataFrame()\n",
    "    impt_cols = train.columns\n",
    "    for feature in ['id_02__id_20', 'id_02__D8', 'D11__DeviceInfo', 'DeviceInfo__P_emaildomain', 'P_emaildomain__C2', \n",
    "                    'card2__dist1', 'card1__card5', 'card2__id_20', 'card5__P_emaildomain', 'addr1__card1']:\n",
    "\n",
    "        f1, f2 = feature.split('__')\n",
    "        if (f1 in impt_cols) & (f2 in impt_cols):\n",
    "            df_add[feature] = train[f1].astype(str) + '_' + train[f2].astype(str)\n",
    "            df_test_add[feature] = test[f1].astype(str) + '_' + test[f2].astype(str)\n",
    "\n",
    "            le = LabelEncoder()\n",
    "            le.fit(list(df_add[feature].astype(str).values) + list(df_test_add[feature].astype(str).values))\n",
    "            df_add[feature] = le.transform(list(df_add[feature].astype(str).values))\n",
    "            df_test_add[feature] = le.transform(list(df_test_add[feature].astype(str).values))\n",
    "\n",
    "    for feature in ['id_34', 'id_36', 'card1']:\n",
    "        if feature in impt_cols:\n",
    "            # Count encoded for both train and test\n",
    "            df_add[feature + '_count_full'] = train[feature].map(pd.concat([train[feature], test[feature]], ignore_index=True).value_counts(dropna=False))\n",
    "            df_test_add[feature + '_count_full'] = test[feature].map(pd.concat([train[feature], test[feature]], ignore_index=True).value_counts(dropna=False))\n",
    "\n",
    "    for feature in ['id_01', 'id_31', 'id_33', 'id_35', 'id_36']:\n",
    "        if feature in impt_cols:\n",
    "            # Count encoded separately for train and test\n",
    "            df_add[feature + '_count_dist'] = train[feature].map(train[feature].value_counts(dropna=False))\n",
    "            df_test_add[feature + '_count_dist'] = test[feature].map(test[feature].value_counts(dropna=False))\n",
    "    \n",
    "    df_add['nulls'] = df.isnull().sum(axis=1)\n",
    "    df_test_add['nulls'] = df_test.isnull().sum(axis=1)\n",
    "    \n",
    "    return df_add, df_test_add"
   ]
  },
  {
   "cell_type": "code",
   "execution_count": 898,
   "metadata": {},
   "outputs": [],
   "source": [
    "df1_add, df1_test_add = add_features(df,df_test)"
   ]
  },
  {
   "cell_type": "code",
   "execution_count": 1128,
   "metadata": {},
   "outputs": [],
   "source": [
    "df1_impt = pd.concat([df1_impt, df1_add], axis = 1)\n",
    "df1_test_impt = pd.concat([df1_test_impt, df1_test_add], axis = 1)"
   ]
  },
  {
   "cell_type": "markdown",
   "metadata": {},
   "source": [
    "## Combining TransAmt with features"
   ]
  },
  {
   "cell_type": "markdown",
   "metadata": {},
   "source": [
    "- ### As explained in EDA some value in each feature shows more TransAmt when Fraud than NoFraud\n",
    "- ### TransAmt grouped by these categorical values of features can improve the model"
   ]
  },
  {
   "cell_type": "code",
   "execution_count": 1611,
   "metadata": {},
   "outputs": [],
   "source": [
    "def add_feature_TransAmt(df_original, feature, others_threshold = 5000):\n",
    "    play_df = df_original[[feature]].copy()\n",
    "    play_df.loc[play_df[feature].isin(play_df[feature].value_counts(dropna=False)[play_df[feature].value_counts(dropna=False) <= others_threshold ].index)\\\n",
    "                , feature] = \"Others\"\n",
    "    play_idx = play_df[feature].value_counts(dropna=False).index\n",
    "    for idx in play_idx:\n",
    "        play_df[f'{feature}_{idx}_TransAmt'] = df_original['TransactionAmt'].where(play_df[feature].astype(str) == str(idx),0)\n",
    "    return play_df\n",
    "\n",
    "def add_feature_TransAmt_lg_cor(df_original, feature, target = 'isFraud', \n",
    "                                df_test = pd.DataFrame(), verbose = False, cor_threshold = 0.01, others_threshold = 5000):\n",
    "    play_df = add_feature_TransAmt(df_original, feature, others_threshold = others_threshold)\n",
    "    \n",
    "    play_df[target] = df_original[target].copy()\n",
    "    play_lg_cor_cols = large_cor_cols_from_bal_data(play_df, target, cor_threshold, num_itr_to_avg=20,\n",
    "                                                    no_cor_cols= ['isFraud',feature], verbose= verbose)\n",
    "    if len(df_test):\n",
    "        play_df_test = add_feature_TransAmt(df_test, feature, others_threshold = others_threshold)\n",
    "        if set(play_lg_cor_cols).issubset(set(play_df_test.columns)):\n",
    "            return play_df[play_lg_cor_cols], play_df_test[play_lg_cor_cols]\n",
    "        else:\n",
    "            diff_cols = {set(play_lg_cor_cols)-set(play_df_test.columns)}\n",
    "            print(f'{diff_cols} is not in test data')\n",
    "            for i in diff_cols:\n",
    "                play_lg_cor_cols.remove(i)\n",
    "            return play_df[play_lg_cor_cols], play_df_test[play_lg_cor_cols]\n",
    "    else:\n",
    "        return play_df[play_lg_cor_cols]\n",
    "\n",
    "def concat_add_feature_dfs(df_original, feature_list, target = 'isFraud', df_test = pd.DataFrame(), verbose = False, cor_threshold = 0.01, others_threshold = 5000):\n",
    "    df_more_feature_total = pd.DataFrame()\n",
    "    if not len(df_test):\n",
    "        for feature in feature_list:\n",
    "            df_more_feature = add_feature_TransAmt_lg_cor(df_original, feature, target = 'isFraud', df_test = df_test  , verbose = verbose ,  cor_threshold = cor_threshold , others_threshold =  others_threshold)\n",
    "            df_more_feature_total = pd.concat([df_more_feature_total, df_more_feature], axis = 1, sort = False)\n",
    "            if verbose:\n",
    "                print('')\n",
    "        return df_more_feature_total\n",
    "    elif len(df_test):\n",
    "        df_test_more_feature_total = pd.DataFrame()\n",
    "        for feature in feature_list:\n",
    "            df_more_feature, df_test_more_feature = add_feature_TransAmt_lg_cor(df_original, feature, target = 'isFraud',\n",
    "                                                                                df_test = df_test , verbose=verbose, \n",
    "                                                          cor_threshold = cor_threshold , others_threshold =  others_threshold)\n",
    "            df_more_feature_total = pd.concat([df_more_feature_total, df_more_feature], axis = 1, sort = False)\n",
    "            df_test_more_feature_total = pd.concat([df_test_more_feature_total, df_test_more_feature], axis = 1, sort = False)\n",
    "            if verbose:\n",
    "                print('')\n",
    "        return df_more_feature_total, df_test_more_feature_total"
   ]
  },
  {
   "cell_type": "code",
   "execution_count": 1631,
   "metadata": {
    "scrolled": true
   },
   "outputs": [],
   "source": [
    "df_more_feature, df_test_more_feature = concat_add_feature_dfs(df, ['ProductCD','card4'], df_test = df_test,\n",
    "                                         verbose = False, cor_threshold=0.03, others_threshold = 5)\n",
    "\n",
    "df_more_feature_M, df_test_more_feature_M = concat_add_feature_dfs(df, [f'M{i+1}' for i in range(9)], df_test = df_test, verbose = False, cor_threshold=0.1, others_threshold = 5)\n",
    "\n",
    "df_more_feature_addr1, df_test_more_feature_addr1 = concat_add_feature_dfs(df, ['addr1'], df_test = df_test, verbose = False, cor_threshold=0.1, others_threshold = 5000)\n",
    "\n",
    "df_more_feature_addr2, df_test_more_feature_addr2 = concat_add_feature_dfs(df, ['addr2'], df_test = df_test, verbose = False, cor_threshold=0.1, others_threshold = 50)\n",
    "\n",
    "df_more_feature_card3, df_test_more_feature_card3 = concat_add_feature_dfs(df, ['card3'], df_test = df_test, verbose = False, cor_threshold=0.1, others_threshold = 500)\n",
    "\n",
    "df_more_feature = pd.concat([df_more_feature, df_more_feature_addr1, df_more_feature_addr2, df_more_feature_card3, df_more_feature_M], axis =1)\n",
    "\n",
    "df_test_more_feature = pd.concat([df_test_more_feature, df_test_more_feature_addr1, df_test_more_feature_addr2, df_test_more_feature_card3, df_test_more_feature_M], axis =1)\n",
    "\n",
    "del df_more_feature_M, df_test_more_feature_M, df_more_feature_addr1, df_test_more_feature_addr1, df_more_feature_addr2, df_test_more_feature_addr2, df_more_feature_card3, df_test_more_feature_card3"
   ]
  },
  {
   "cell_type": "code",
   "execution_count": 857,
   "metadata": {},
   "outputs": [],
   "source": [
    "df1_impt = pd.concat([df1_impt,df_more_feature], axis =1, sort=False)\n",
    "df1_test_impt = pd.concat([df1_test_impt,df_test_more_feature], axis =1, sort=False)"
   ]
  },
  {
   "cell_type": "markdown",
   "metadata": {},
   "source": [
    "# LightGBM Modeling"
   ]
  },
  {
   "cell_type": "markdown",
   "metadata": {},
   "source": [
    "## For final modeling I use LGBM"
   ]
  },
  {
   "cell_type": "code",
   "execution_count": null,
   "metadata": {},
   "outputs": [],
   "source": [
    "rs = ShuffleSplit(n_splits=1, test_size=.25)"
   ]
  },
  {
   "cell_type": "code",
   "execution_count": 1782,
   "metadata": {},
   "outputs": [],
   "source": [
    "def train_val_split(df1_impt_add, target = 'isFraud'):\n",
    "#    feature_names = [\"\".join (c if c.isalnum() else \"_\" for c in str(x)) for x in list(df1_impt_add.columns)]\n",
    "    i = 0\n",
    "    for train_index, val_index in rs.split(df1_impt_add, df[target]):\n",
    "        trainX, trainY = df1_impt_add.iloc[train_index], df[target].iloc[train_index]\n",
    "\n",
    "        #     trainY.reset_index(drop = True, inplace = True)\n",
    "        #     trainX.reset_index(drop = True, inplace = True)\n",
    "        #     idx_for_1 = np.where(trainY == 1)[0]\n",
    "        #     idx_for_0 = list(  set(range(trainY.shape[0]))-set(idx_for_1)  )\n",
    "        #     sample_idx_for_0 = random.choices(idx_for_0,k = (trainY == 1).sum())\n",
    "        #     sample_idx = list(idx_for_1) + sample_idx_for_0\n",
    "        #     sample_idx.sort()\n",
    "\n",
    "        #     trainX = trainX.iloc[sample_idx]\n",
    "        #     trainY = trainY.iloc[sample_idx]\n",
    "\n",
    "        valX, valY = df1_impt_add.iloc[val_index], df[target].iloc[val_index]\n",
    "        i += 1\n",
    "        print(f'split {i}')\n",
    "    \n",
    "    return trainX, trainY, valX, valY"
   ]
  },
  {
   "cell_type": "code",
   "execution_count": null,
   "metadata": {},
   "outputs": [],
   "source": [
    "trainX, trainY, valX, valY = train_val_split(df1_impt, target = 'isFraud')"
   ]
  },
  {
   "cell_type": "code",
   "execution_count": 1736,
   "metadata": {},
   "outputs": [],
   "source": [
    "dtrain = lgb.Dataset(trainX, label=trainY)\n",
    "dvalid = lgb.Dataset(valX, label=valY)"
   ]
  },
  {
   "cell_type": "code",
   "execution_count": 1716,
   "metadata": {},
   "outputs": [],
   "source": [
    "# optimized parameters\n",
    "params = {'num_leaves': 546,\n",
    "          'min_child_weight': 0.03454472573214212,\n",
    "          'feature_fraction': 0.1797454081646243,\n",
    "          'bagging_fraction': 0.2181193142567742,\n",
    "          'min_data_in_leaf': 106,\n",
    "          'objective': 'binary',\n",
    "          'max_depth': -1,\n",
    "          'learning_rate': 0.005883242363721497,\n",
    "          \"boosting_type\": \"gbdt\",\n",
    "          \"bagging_seed\": 11,\n",
    "          \"metric\": 'auc',\n",
    "          \"verbosity\": -1,\n",
    "          'reg_alpha': 0.3299927210061127,\n",
    "          'reg_lambda': 0.3885237330340494,\n",
    "          'random_state': 42,\n",
    "}"
   ]
  },
  {
   "cell_type": "code",
   "execution_count": 1717,
   "metadata": {
    "scrolled": true
   },
   "outputs": [
    {
     "name": "stdout",
     "output_type": "stream",
     "text": [
      "Training until validation scores don't improve for 500 rounds\n",
      "[200]\ttraining's auc: 0.949815\tvalid_1's auc: 0.929437\n",
      "[400]\ttraining's auc: 0.966843\tvalid_1's auc: 0.94217\n",
      "[600]\ttraining's auc: 0.979822\tvalid_1's auc: 0.95179\n",
      "[800]\ttraining's auc: 0.987616\tvalid_1's auc: 0.958306\n",
      "[1000]\ttraining's auc: 0.992515\tvalid_1's auc: 0.962881\n",
      "[1200]\ttraining's auc: 0.995548\tvalid_1's auc: 0.965863\n",
      "[1400]\ttraining's auc: 0.997364\tvalid_1's auc: 0.968024\n",
      "[1600]\ttraining's auc: 0.99845\tvalid_1's auc: 0.969617\n",
      "[1800]\ttraining's auc: 0.999084\tvalid_1's auc: 0.970843\n",
      "[2000]\ttraining's auc: 0.999452\tvalid_1's auc: 0.971744\n",
      "[2200]\ttraining's auc: 0.999677\tvalid_1's auc: 0.972447\n",
      "[2400]\ttraining's auc: 0.999813\tvalid_1's auc: 0.97306\n",
      "[2600]\ttraining's auc: 0.999893\tvalid_1's auc: 0.973502\n",
      "[2800]\ttraining's auc: 0.999939\tvalid_1's auc: 0.973844\n",
      "[3000]\ttraining's auc: 0.999966\tvalid_1's auc: 0.974097\n",
      "[3200]\ttraining's auc: 0.999982\tvalid_1's auc: 0.974346\n",
      "[3400]\ttraining's auc: 0.999991\tvalid_1's auc: 0.974484\n",
      "[3600]\ttraining's auc: 0.999995\tvalid_1's auc: 0.974654\n",
      "[3800]\ttraining's auc: 0.999998\tvalid_1's auc: 0.974773\n",
      "[4000]\ttraining's auc: 0.999999\tvalid_1's auc: 0.974837\n",
      "[4200]\ttraining's auc: 1\tvalid_1's auc: 0.97492\n",
      "[4400]\ttraining's auc: 1\tvalid_1's auc: 0.97497\n",
      "[4600]\ttraining's auc: 1\tvalid_1's auc: 0.974969\n",
      "[4800]\ttraining's auc: 1\tvalid_1's auc: 0.974975\n",
      "[5000]\ttraining's auc: 1\tvalid_1's auc: 0.975\n",
      "[5200]\ttraining's auc: 1\tvalid_1's auc: 0.974981\n",
      "[5400]\ttraining's auc: 1\tvalid_1's auc: 0.974978\n",
      "Early stopping, best iteration is:\n",
      "[5014]\ttraining's auc: 1\tvalid_1's auc: 0.975011\n"
     ]
    }
   ],
   "source": [
    "lgbm_clf = lgb.train(params, dtrain, 10000, valid_sets = [dtrain, dvalid], verbose_eval=200, early_stopping_rounds=500)"
   ]
  },
  {
   "cell_type": "code",
   "execution_count": 1723,
   "metadata": {},
   "outputs": [
    {
     "data": {
      "text/plain": [
       "<matplotlib.axes._subplots.AxesSubplot at 0x48a7e0650>"
      ]
     },
     "execution_count": 1723,
     "metadata": {},
     "output_type": "execute_result"
    },
    {
     "data": {
      "image/png": "[encoded data removed]",
      "text/plain": [
       "<Figure size 432x288 with 1 Axes>"
      ]
     },
     "metadata": {
      "needs_background": "light"
     },
     "output_type": "display_data"
    }
   ],
   "source": [
    "lgb.plot_importance(lgbm_clf,max_num_features=20 , importance_type = 'split')"
   ]
  },
  {
   "cell_type": "code",
   "execution_count": 1724,
   "metadata": {},
   "outputs": [
    {
     "data": {
      "text/plain": [
       "<matplotlib.axes._subplots.AxesSubplot at 0x48a33fa50>"
      ]
     },
     "execution_count": 1724,
     "metadata": {},
     "output_type": "execute_result"
    },
    {
     "data": {
      "image/png": "[encoded data removed]",
      "text/plain": [
       "<Figure size 432x288 with 1 Axes>"
      ]
     },
     "metadata": {
      "needs_background": "light"
     },
     "output_type": "display_data"
    }
   ],
   "source": [
    "lgb.plot_importance(lgbm_clf,max_num_features=20 , importance_type = 'gain')"
   ]
  },
  {
   "cell_type": "code",
   "execution_count": 1764,
   "metadata": {},
   "outputs": [],
   "source": [
    "def feature_impt_list(lgbm_clf, df_cols, importance_type = 'split'):\n",
    "    feature_impt = lgbm_clf.feature_importance(importance_type = importance_type)\n",
    "    impt_feature_names = itemgetter(*np.argsort(feature_impt)[::-1])(df_cols)\n",
    "    impt_feature_score = itemgetter(*np.argsort(feature_impt)[::-1])(feature_impt)\n",
    "    if importance_type == 'split':\n",
    "        for name, score in zip(impt_feature_names, impt_feature_score):\n",
    "            print(f'{name:30s} : {score:8d}')\n",
    "    if importance_type == 'gain':\n",
    "        for name, score in zip(impt_feature_names, impt_feature_score):\n",
    "            print(f'{name:30s} : {score:10.2f}')"
   ]
  },
  {
   "cell_type": "code",
   "execution_count": 1765,
   "metadata": {},
   "outputs": [
    {
     "name": "stdout",
     "output_type": "stream",
     "text": [
      "Transaction_day_cycle          :   105276\n",
      "addr1__card1                   :   104127\n",
      "Transaction_time_cycle         :   100904\n",
      "card1_count_full               :    99844\n",
      "card1                          :    96547\n",
      "card2__dist1                   :    92776\n",
      "card1__card5                   :    90834\n",
      "TransactionAmt                 :    83316\n",
      "card2_count_full               :    76250\n",
      "card2__id_20                   :    73979\n",
      "addr1                          :    69654\n",
      "card5__P_emaildomain           :    65898\n",
      "ProductCD_W_TransAmt           :    62490\n",
      "P_emaildomain__C2              :    60693\n",
      "nulls                          :    54037\n",
      "DeviceInfo__P_emaildomain      :    52709\n",
      "D15                            :    49944\n",
      "D11__DeviceInfo                :    42213\n",
      "D4                             :    38931\n",
      "D10                            :    37235\n",
      "D1                             :    35201\n",
      "id_02                          :    32679\n",
      "M6_nan_TransAmt                :    32330\n",
      "D2                             :    30989\n",
      "id_02__id_20                   :    30934\n",
      "C13                            :    28691\n",
      "id_31_count_dist               :    28553\n",
      "card5                          :    28431\n",
      "V310                           :    28046\n",
      "id_20                          :    26785\n",
      "id_02__D8                      :    26267\n",
      "id_19                          :    25900\n",
      "D3                             :    22734\n",
      "D5                             :    22034\n",
      "V313                           :    21177\n",
      "C2                             :    21058\n",
      "addr1_nan_TransAmt             :    20853\n",
      "M4_M2_TransAmt                 :    20485\n",
      "ProductCD_C_TransAmt           :    20434\n",
      "C1                             :    20039\n",
      "V315                           :    19952\n",
      "D8                             :    19723\n",
      "C6                             :    19152\n",
      "V314                           :    18932\n",
      "card3_185.0_TransAmt           :    18757\n",
      "addr2_nan_TransAmt             :    16694\n",
      "C14                            :    16438\n",
      "C9                             :    15598\n",
      "id_06                          :    15398\n",
      "V312                           :    14856\n",
      "C11                            :    13877\n",
      "id_13                          :    13447\n",
      "D9                             :    12173\n",
      "id_33_count_dist               :    11936\n",
      "V283                           :    11697\n",
      "V131                           :    11114\n",
      "C5                             :    10485\n",
      "id_01                          :    10231\n",
      "V96                            :     9662\n",
      "V282                           :     9635\n",
      "id_01_count_dist               :     9321\n",
      "V285                           :     8730\n",
      "V83                            :     7952\n",
      "V264                           :     7934\n",
      "D6                             :     7514\n",
      "V99                            :     6961\n",
      "V76                            :     6882\n",
      "V62                            :     6764\n",
      "V265                           :     6747\n",
      "C8                             :     6745\n",
      "C10                            :     6676\n",
      "D12                            :     6644\n",
      "V36                            :     6582\n",
      "V309                           :     6501\n",
      "V78                            :     6350\n",
      "V75                            :     6316\n",
      "C12                            :     6250\n",
      "V54                            :     6248\n",
      "V203                           :     6140\n",
      "V35                            :     6083\n",
      "V291                           :     6001\n",
      "V20                            :     5975\n",
      "V82                            :     5948\n",
      "V45                            :     5892\n",
      "ProductCD_H_TransAmt           :     5884\n",
      "V13                            :     5865\n",
      "V91                            :     5833\n",
      "V38                            :     5789\n",
      "V61                            :     5565\n",
      "V132                           :     5535\n",
      "V87                            :     5497\n",
      "V49                            :     5404\n",
      "V53                            :     5271\n",
      "ProductCD_R_TransAmt           :     5243\n",
      "C4                             :     5113\n",
      "V12                            :     4841\n",
      "V202                           :     4740\n",
      "V70                            :     4737\n",
      "V274                           :     4731\n",
      "V129                           :     4644\n",
      "V44                            :     4636\n",
      "V48                            :     4590\n",
      "V56                            :     4579\n",
      "V19                            :     4497\n",
      "V37                            :     4169\n",
      "V77                            :     4142\n",
      "V69                            :     4135\n",
      "V271                           :     4099\n",
      "V259                           :     3911\n",
      "V275                           :     3897\n",
      "P_emaildomain_gmail.com        :     3893\n",
      "V102                           :     3758\n",
      "V209                           :     3712\n",
      "card3                          :     3624\n",
      "D13                            :     3584\n",
      "M6_F                           :     3406\n",
      "V289                           :     3332\n",
      "card4_discover_TransAmt        :     3216\n",
      "V55                            :     3135\n",
      "V261                           :     3099\n",
      "V67                            :     3063\n",
      "V52                            :     3060\n",
      "V281                           :     2988\n",
      "V219                           :     2980\n",
      "V207                           :     2889\n",
      "V293                           :     2842\n",
      "M6_T                           :     2782\n",
      "V171                           :     2761\n",
      "card6_credit                   :     2703\n",
      "V245                           :     2635\n",
      "card6_debit                    :     2631\n",
      "C7                             :     2609\n",
      "V47                            :     2578\n",
      "V170                           :     2536\n",
      "M4_M0                          :     2519\n",
      "V100                           :     2504\n",
      "V301                           :     2484\n",
      "V40                            :     2470\n",
      "id_03                          :     2457\n",
      "id_17                          :     2453\n",
      "V23                            :     2436\n",
      "V256                           :     2236\n",
      "id_09                          :     2228\n",
      "M3_F                           :     2207\n",
      "V262                           :     2168\n",
      "V103                           :     2167\n",
      "V251                           :     2114\n",
      "R_emaildomain_gmail.com        :     2112\n",
      "V39                            :     2100\n",
      "M4_M1                          :     2080\n",
      "V258                           :     2052\n",
      "M5_T                           :     2043\n",
      "V239                           :     2020\n",
      "TransactionAmt_decimal         :     1918\n",
      "V81                            :     1915\n",
      "V187                           :     1856\n",
      "ProductCD_S_TransAmt           :     1840\n",
      "V257                           :     1764\n",
      "V243                           :     1754\n",
      "M2_T                           :     1667\n",
      "V177                           :     1588\n",
      "DeviceType_mobile              :     1584\n",
      "M3_T                           :     1569\n",
      "V201                           :     1554\n",
      "V200                           :     1447\n",
      "V220                           :     1402\n",
      "V206                           :     1402\n",
      "DeviceType_desktop             :     1393\n",
      "V189                           :     1373\n",
      "V244                           :     1288\n",
      "V94                            :     1254\n",
      "P_emaildomain_anonymous.com    :     1252\n",
      "V33                            :     1197\n",
      "M5_NaN                         :     1097\n",
      "V190                           :     1039\n",
      "V188                           :     1004\n",
      "V169                           :      987\n",
      "DeviceInfo_Windows             :      921\n",
      "V198                           :      903\n",
      "M4_NaN                         :      897\n",
      "id_34_count_full               :      891\n",
      "addr2                          :      864\n",
      "P_emaildomain_NaN              :      819\n",
      "V197                           :      793\n",
      "ProductCD_H                    :      730\n",
      "R_emaildomain_NaN              :      690\n",
      "P_emaildomain_mail.com         :      682\n",
      "V172                           :      648\n",
      "id_36_count_full               :      617\n",
      "P_emaildomain_outlook.com      :      599\n",
      "card4_discover                 :      575\n",
      "M7_NaN                         :      556\n",
      "id_36_count_dist               :      533\n",
      "R_emaildomain_icloud.com       :      527\n",
      "id_12_Found                    :      520\n",
      "C3                             :      515\n",
      "DeviceInfo_NaN                 :      508\n",
      "M1_NaN                         :      406\n",
      "DeviceInfo_MacOS               :      400\n",
      "M8_NaN                         :      393\n",
      "DeviceInfo_Trident/7.0         :      368\n",
      "P_emaildomain_yahoo.com.mx     :      351\n",
      "id_16_NaN                      :      340\n",
      "DeviceInfo_hi6210sft Build/MRA58K :      330\n",
      "id_12_NotFound                 :      318\n",
      "ProductCD_S                    :      317\n",
      "M6_NaN                         :      294\n",
      "id_35_count_dist               :      278\n",
      "DeviceInfo_SM-A300H Build/LRX22G :      270\n",
      "P_emaildomain_sbcglobal.net    :      254\n",
      "id_33_NaN                      :      236\n",
      "id_31_chrome 64.0 for android  :      229\n",
      "id_23_NaN                      :      132\n",
      "P_emaildomain_verizon.net      :      126\n",
      "id_34_NaN                      :       90\n",
      "ProductCD_C                    :       74\n",
      "id_30_NaN                      :       56\n",
      "card4_NaN                      :       13\n"
     ]
    }
   ],
   "source": [
    "feature_impt_list(lgbm_clf, df1_impt_add.columns, importance_type = 'split')"
   ]
  },
  {
   "cell_type": "code",
   "execution_count": 1766,
   "metadata": {},
   "outputs": [
    {
     "name": "stdout",
     "output_type": "stream",
     "text": [
      "addr1__card1                   :  288033.84\n",
      "card1_count_full               :  284263.03\n",
      "V258                           :  273766.78\n",
      "card2__dist1                   :  272521.63\n",
      "C13                            :  258556.72\n",
      "card1                          :  255156.40\n",
      "card1__card5                   :  250328.36\n",
      "V257                           :  240663.80\n",
      "C1                             :  214648.14\n",
      "card2_count_full               :  211318.64\n",
      "TransactionAmt                 :  194087.57\n",
      "card2__id_20                   :  192621.48\n",
      "V201                           :  192047.13\n",
      "C14                            :  187689.86\n",
      "Transaction_day_cycle          :  187549.80\n",
      "card5__P_emaildomain           :  177793.06\n",
      "P_emaildomain__C2              :  177498.76\n",
      "addr1                          :  176395.10\n",
      "Transaction_time_cycle         :  173249.34\n",
      "ProductCD_W_TransAmt           :  163421.28\n",
      "D15                            :  148873.64\n",
      "C8                             :  147309.29\n",
      "D2                             :  144615.03\n",
      "V200                           :  133949.67\n",
      "DeviceInfo__P_emaildomain      :  130541.74\n",
      "D1                             :  123228.55\n",
      "nulls                          :  121790.14\n",
      "C11                            :  116108.01\n",
      "D10                            :  113405.04\n",
      "C2                             :  110609.92\n",
      "C6                             :  109817.28\n",
      "D4                             :  107194.60\n",
      "C4                             :  102261.68\n",
      "D11__DeviceInfo                :   99674.78\n",
      "V310                           :   82596.74\n",
      "V283                           :   82349.86\n",
      "V70                            :   80729.64\n",
      "D3                             :   80590.26\n",
      "C10                            :   79522.89\n",
      "V187                           :   78204.75\n",
      "card5                          :   78062.30\n",
      "V189                           :   77249.31\n",
      "V45                            :   75319.74\n",
      "C12                            :   75054.04\n",
      "V315                           :   75011.23\n",
      "M6_nan_TransAmt                :   74867.67\n",
      "V102                           :   71138.61\n",
      "V312                           :   71119.52\n",
      "V313                           :   70031.14\n",
      "V243                           :   68378.25\n",
      "id_31_count_dist               :   66430.84\n",
      "id_20                          :   65342.92\n",
      "D8                             :   64754.50\n",
      "card3_185.0_TransAmt           :   64097.79\n",
      "id_02                          :   60971.83\n",
      "V91                            :   60183.68\n",
      "V44                            :   59996.67\n",
      "V314                           :   57622.46\n",
      "C9                             :   57532.34\n",
      "C5                             :   57466.03\n",
      "V103                           :   56020.70\n",
      "D5                             :   55090.83\n",
      "C7                             :   54735.43\n",
      "V282                           :   53798.44\n",
      "id_19                          :   50744.57\n",
      "V87                            :   48898.35\n",
      "id_02__id_20                   :   48182.37\n",
      "V69                            :   45459.51\n",
      "V244                           :   44475.90\n",
      "V190                           :   43338.78\n",
      "addr1_nan_TransAmt             :   43141.79\n",
      "V293                           :   42506.47\n",
      "V285                           :   42432.80\n",
      "ProductCD_C_TransAmt           :   40653.61\n",
      "M4_M2_TransAmt                 :   40376.34\n",
      "card6_credit                   :   38946.55\n",
      "V131                           :   38922.19\n",
      "ProductCD_H_TransAmt           :   37781.45\n",
      "id_02__D8                      :   36526.82\n",
      "V62                            :   36196.95\n",
      "card6_debit                    :   34982.78\n",
      "R_emaildomain_gmail.com        :   34929.70\n",
      "addr2_nan_TransAmt             :   33916.79\n",
      "id_06                          :   32340.97\n",
      "id_01                          :   31969.56\n",
      "V54                            :   31832.45\n",
      "card3                          :   31624.38\n",
      "V281                           :   31295.04\n",
      "V83                            :   31285.47\n",
      "id_17                          :   30145.39\n",
      "id_33_count_dist               :   29975.46\n",
      "id_13                          :   29386.33\n",
      "V53                            :   29234.04\n",
      "V96                            :   28608.87\n",
      "V99                            :   26620.19\n",
      "V48                            :   25966.26\n",
      "id_01_count_dist               :   25101.48\n",
      "V56                            :   24551.84\n",
      "V20                            :   23536.81\n",
      "P_emaildomain_gmail.com        :   23478.65\n",
      "V49                            :   23102.38\n",
      "V198                           :   23004.86\n",
      "D6                             :   22778.77\n",
      "V67                            :   22768.49\n",
      "D12                            :   22304.46\n",
      "V78                            :   22247.54\n",
      "V82                            :   21961.79\n",
      "ProductCD_R_TransAmt           :   21837.59\n",
      "V76                            :   21608.35\n",
      "V264                           :   21335.46\n",
      "V75                            :   21327.14\n",
      "V291                           :   20964.02\n",
      "V61                            :   20791.81\n",
      "V36                            :   20616.07\n",
      "D9                             :   20182.82\n",
      "V209                           :   19882.35\n",
      "V251                           :   19751.38\n",
      "V13                            :   19718.32\n",
      "V309                           :   19587.80\n",
      "V170                           :   19505.43\n",
      "V35                            :   19489.23\n",
      "V132                           :   19419.86\n",
      "V219                           :   19184.78\n",
      "addr2                          :   19148.49\n",
      "V12                            :   19089.62\n",
      "V94                            :   19066.92\n",
      "V265                           :   18381.76\n",
      "V207                           :   18374.71\n",
      "M6_F                           :   18158.93\n",
      "V203                           :   17569.87\n",
      "V38                            :   17341.56\n",
      "V171                           :   16663.18\n",
      "V275                           :   16410.03\n",
      "DeviceType_mobile              :   16394.53\n",
      "V52                            :   16138.04\n",
      "V19                            :   16024.14\n",
      "V23                            :   15777.99\n",
      "V245                           :   15633.17\n",
      "V274                           :   15508.38\n",
      "V55                            :   15389.90\n",
      "id_03                          :   15165.63\n",
      "M5_T                           :   15157.81\n",
      "V259                           :   14993.56\n",
      "M4_NaN                         :   14545.59\n",
      "id_35_count_dist               :   14332.83\n",
      "id_09                          :   14282.00\n",
      "card4_discover_TransAmt        :   14151.93\n",
      "V289                           :   13946.67\n",
      "V261                           :   13594.81\n",
      "V33                            :   13506.45\n",
      "V129                           :   13365.12\n",
      "V271                           :   13312.12\n",
      "V202                           :   12879.51\n",
      "M4_M0                          :   12557.85\n",
      "V39                            :   12482.82\n",
      "M6_T                           :   12347.76\n",
      "TransactionAmt_decimal         :   12255.63\n",
      "V172                           :   12046.06\n",
      "P_emaildomain_anonymous.com    :   11359.02\n",
      "V37                            :   11200.37\n",
      "M3_F                           :   10984.61\n",
      "V188                           :   10911.84\n",
      "V100                           :   10861.72\n",
      "V256                           :   10727.49\n",
      "D13                            :   10630.47\n",
      "V262                           :   10605.79\n",
      "V77                            :   10597.02\n",
      "M3_T                           :   10532.61\n",
      "ProductCD_S_TransAmt           :   10389.38\n",
      "id_12_NotFound                 :    9926.48\n",
      "R_emaildomain_NaN              :    9859.70\n",
      "V197                           :    9849.33\n",
      "M5_NaN                         :    9459.80\n",
      "V47                            :    9234.79\n",
      "DeviceType_desktop             :    8944.14\n",
      "DeviceInfo_hi6210sft Build/MRA58K :    8888.77\n",
      "V301                           :    8455.83\n",
      "V40                            :    8183.06\n",
      "M4_M1                          :    8172.70\n",
      "V239                           :    7851.57\n",
      "V206                           :    7352.02\n",
      "V177                           :    7341.94\n",
      "ProductCD_C                    :    7013.52\n",
      "card4_discover                 :    6801.82\n",
      "V169                           :    6788.89\n",
      "M2_T                           :    6370.53\n",
      "V81                            :    6090.01\n",
      "id_12_Found                    :    6060.66\n",
      "V220                           :    5364.15\n",
      "P_emaildomain_mail.com         :    4927.28\n",
      "id_34_count_full               :    4862.95\n",
      "P_emaildomain_NaN              :    4230.32\n",
      "ProductCD_H                    :    3881.76\n",
      "C3                             :    3535.75\n",
      "ProductCD_S                    :    3396.01\n",
      "DeviceInfo_Windows             :    3339.76\n",
      "id_36_count_dist               :    2912.55\n",
      "id_34_NaN                      :    2540.17\n",
      "DeviceInfo_Trident/7.0         :    2459.21\n",
      "P_emaildomain_outlook.com      :    2229.82\n",
      "R_emaildomain_icloud.com       :    2160.29\n",
      "M7_NaN                         :    2124.28\n",
      "id_36_count_full               :    1981.82\n",
      "id_33_NaN                      :    1947.46\n",
      "M6_NaN                         :    1879.69\n",
      "M8_NaN                         :    1804.65\n",
      "M1_NaN                         :    1776.82\n",
      "DeviceInfo_MacOS               :    1613.66\n",
      "DeviceInfo_NaN                 :    1412.68\n",
      "P_emaildomain_yahoo.com.mx     :    1353.24\n",
      "id_31_chrome 64.0 for android  :    1344.42\n",
      "id_30_NaN                      :    1290.05\n",
      "id_16_NaN                      :    1128.54\n",
      "id_23_NaN                      :     844.34\n",
      "DeviceInfo_SM-A300H Build/LRX22G :     703.56\n",
      "P_emaildomain_sbcglobal.net    :     540.44\n",
      "P_emaildomain_verizon.net      :     275.56\n",
      "card4_NaN                      :      64.40\n"
     ]
    }
   ],
   "source": [
    "feature_impt_list(lgbm_clf, df1_impt_add.columns, importance_type = 'gain')"
   ]
  },
  {
   "cell_type": "markdown",
   "metadata": {},
   "source": [
    "## Stratified K Fold "
   ]
  },
  {
   "cell_type": "code",
   "execution_count": 918,
   "metadata": {},
   "outputs": [],
   "source": [
    "skf = StratifiedKFold(n_splits=5, shuffle = True)"
   ]
  },
  {
   "cell_type": "code",
   "execution_count": 2995,
   "metadata": {},
   "outputs": [
    {
     "name": "stdout",
     "output_type": "stream",
     "text": [
      "Training until validation scores don't improve for 500 rounds\n",
      "[2000]\ttraining's auc: 0.999267\tvalid_1's auc: 0.971211\n",
      "[4000]\ttraining's auc: 0.999998\tvalid_1's auc: 0.974413\n",
      "Early stopping, best iteration is:\n",
      "[4832]\ttraining's auc: 1\tvalid_1's auc: 0.974535\n",
      "Training until validation scores don't improve for 500 rounds\n",
      "[2000]\ttraining's auc: 0.999334\tvalid_1's auc: 0.971276\n",
      "[4000]\ttraining's auc: 0.999999\tvalid_1's auc: 0.974626\n",
      "Early stopping, best iteration is:\n",
      "[4528]\ttraining's auc: 1\tvalid_1's auc: 0.974753\n",
      "Training until validation scores don't improve for 500 rounds\n",
      "[2000]\ttraining's auc: 0.999281\tvalid_1's auc: 0.974602\n",
      "[4000]\ttraining's auc: 0.999997\tvalid_1's auc: 0.977486\n",
      "Early stopping, best iteration is:\n",
      "[5478]\ttraining's auc: 1\tvalid_1's auc: 0.977748\n",
      "Training until validation scores don't improve for 500 rounds\n",
      "[2000]\ttraining's auc: 0.999298\tvalid_1's auc: 0.973541\n",
      "[4000]\ttraining's auc: 0.999998\tvalid_1's auc: 0.976157\n",
      "Early stopping, best iteration is:\n",
      "[4332]\ttraining's auc: 0.999999\tvalid_1's auc: 0.976211\n",
      "Training until validation scores don't improve for 500 rounds\n",
      "[2000]\ttraining's auc: 0.999332\tvalid_1's auc: 0.971222\n",
      "[4000]\ttraining's auc: 0.999997\tvalid_1's auc: 0.974251\n",
      "Early stopping, best iteration is:\n",
      "[4437]\ttraining's auc: 0.999999\tvalid_1's auc: 0.974346\n",
      "Mean AUC score: 0.9755186080355\n",
      "\n"
     ]
    }
   ],
   "source": [
    "auc_scores = []\n",
    "for train_index, val_index in skf.split(df1_impt_add, df[target]):\n",
    "    trainX, trainY = df1_impt_add.iloc[train_index], df[target].iloc[train_index]\n",
    "    valX, valY = df1_impt_add.iloc[val_index], df[target].iloc[val_index]   \n",
    "    \n",
    "    dtrain = lgb.Dataset(trainX, label=trainY)\n",
    "    dvalid = lgb.Dataset(valX, label=valY)\n",
    "\n",
    "    \n",
    "    lgbm_clf = lgb.train(params, dtrain, 10000, valid_sets = [dtrain, dvalid], verbose_eval=2000, early_stopping_rounds=500)\n",
    "    auc_scores.append(list(lgbm_clf.best_score['valid_1'].values())[0])\n",
    "print(f\"Mean AUC score: {np.mean(auc_scores)}\\n\")"
   ]
  },
  {
   "cell_type": "markdown",
   "metadata": {},
   "source": [
    "- # The mean AUC score: 0.97552\n",
    "- # It improved the basic model score 0.8783 by 11.1%"
   ]
  },
  {
   "cell_type": "markdown",
   "metadata": {},
   "source": [
    "# Submission"
   ]
  },
  {
   "cell_type": "code",
   "execution_count": 1726,
   "metadata": {},
   "outputs": [],
   "source": [
    "test_predic = lgbm_clf.predict(df1_test_impt_add)"
   ]
  },
  {
   "cell_type": "code",
   "execution_count": 1787,
   "metadata": {},
   "outputs": [],
   "source": [
    "#test_predic = lgbm_clf.predict(df1_test_impt_add[important_features])"
   ]
  },
  {
   "cell_type": "code",
   "execution_count": 1683,
   "metadata": {},
   "outputs": [],
   "source": [
    "#submission = pd.DataFrame({'TransactionID': df_test['TransactionID'].values, 'isFraud': test_predic[:,1]})"
   ]
  },
  {
   "cell_type": "code",
   "execution_count": 1788,
   "metadata": {},
   "outputs": [],
   "source": [
    "submission = pd.DataFrame({'TransactionID': df_test['TransactionID'].values, 'isFraud': test_predic})"
   ]
  },
  {
   "cell_type": "code",
   "execution_count": 1729,
   "metadata": {},
   "outputs": [
    {
     "data": {
      "text/html": [
       "<div>\n",
       "<style scoped>\n",
       "    .dataframe tbody tr th:only-of-type {\n",
       "        vertical-align: middle;\n",
       "    }\n",
       "\n",
       "    .dataframe tbody tr th {\n",
       "        vertical-align: top;\n",
       "    }\n",
       "\n",
       "    .dataframe thead th {\n",
       "        text-align: right;\n",
       "    }\n",
       "</style>\n",
       "<table border=\"1\" class=\"dataframe\">\n",
       "  <thead>\n",
       "    <tr style=\"text-align: right;\">\n",
       "      <th></th>\n",
       "      <th>TransactionID</th>\n",
       "      <th>isFraud</th>\n",
       "    </tr>\n",
       "  </thead>\n",
       "  <tbody>\n",
       "    <tr>\n",
       "      <th>0</th>\n",
       "      <td>3663549</td>\n",
       "      <td>0.000196</td>\n",
       "    </tr>\n",
       "    <tr>\n",
       "      <th>1</th>\n",
       "      <td>3663550</td>\n",
       "      <td>0.000209</td>\n",
       "    </tr>\n",
       "    <tr>\n",
       "      <th>2</th>\n",
       "      <td>3663551</td>\n",
       "      <td>0.000207</td>\n",
       "    </tr>\n",
       "    <tr>\n",
       "      <th>3</th>\n",
       "      <td>3663552</td>\n",
       "      <td>0.000250</td>\n",
       "    </tr>\n",
       "    <tr>\n",
       "      <th>4</th>\n",
       "      <td>3663553</td>\n",
       "      <td>0.000096</td>\n",
       "    </tr>\n",
       "    <tr>\n",
       "      <th>...</th>\n",
       "      <td>...</td>\n",
       "      <td>...</td>\n",
       "    </tr>\n",
       "    <tr>\n",
       "      <th>506686</th>\n",
       "      <td>4170235</td>\n",
       "      <td>0.000648</td>\n",
       "    </tr>\n",
       "    <tr>\n",
       "      <th>506687</th>\n",
       "      <td>4170236</td>\n",
       "      <td>0.001740</td>\n",
       "    </tr>\n",
       "    <tr>\n",
       "      <th>506688</th>\n",
       "      <td>4170237</td>\n",
       "      <td>0.005191</td>\n",
       "    </tr>\n",
       "    <tr>\n",
       "      <th>506689</th>\n",
       "      <td>4170238</td>\n",
       "      <td>0.000826</td>\n",
       "    </tr>\n",
       "    <tr>\n",
       "      <th>506690</th>\n",
       "      <td>4170239</td>\n",
       "      <td>0.000608</td>\n",
       "    </tr>\n",
       "  </tbody>\n",
       "</table>\n",
       "<p>506691 rows × 2 columns</p>\n",
       "</div>"
      ],
      "text/plain": [
       "        TransactionID   isFraud\n",
       "0             3663549  0.000196\n",
       "1             3663550  0.000209\n",
       "2             3663551  0.000207\n",
       "3             3663552  0.000250\n",
       "4             3663553  0.000096\n",
       "...               ...       ...\n",
       "506686        4170235  0.000648\n",
       "506687        4170236  0.001740\n",
       "506688        4170237  0.005191\n",
       "506689        4170238  0.000826\n",
       "506690        4170239  0.000608\n",
       "\n",
       "[506691 rows x 2 columns]"
      ]
     },
     "execution_count": 1729,
     "metadata": {},
     "output_type": "execute_result"
    }
   ],
   "source": [
    "submission"
   ]
  },
  {
   "cell_type": "code",
   "execution_count": 1789,
   "metadata": {},
   "outputs": [],
   "source": [
    "submission.to_csv('submission.csv',index=False)"
   ]
  }
 ],
 "metadata": {
  "kernelspec": {
   "display_name": "Python 3",
   "language": "python",
   "name": "python3"
  },
  "language_info": {
   "codemirror_mode": {
    "name": "ipython",
    "version": 3
   },
   "file_extension": ".py",
   "mimetype": "text/x-python",
   "name": "python",
   "nbconvert_exporter": "python",
   "pygments_lexer": "ipython3",
   "version": "3.7.4"
  }
 },
 "nbformat": 4,
 "nbformat_minor": 2
}
